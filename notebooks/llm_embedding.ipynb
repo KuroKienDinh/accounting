{
 "cells": [
  {
   "cell_type": "code",
   "id": "initial_id",
   "metadata": {
    "collapsed": true
   },
   "source": [
    "import pandas as pd\n",
    "import torch\n",
    "from models.llm.model import GemmaModel\n",
    "from models.llm.train import ClassificationTrainer\n",
    "from models.data.dataset import ClassificationDataset\n",
    "from models.llm.tokenizer import TokenizerGemma\n",
    "from torch import nn"
   ],
   "outputs": [],
   "execution_count": null
  },
  {
   "metadata": {},
   "cell_type": "code",
   "source": [
    "data_path = \"../dataset\"\n",
    "food_path = [\"../dataset/food_beverage/Food/Food.xlsx\"]\n",
    "beverage_path = [\"../dataset/food_beverage/Beverage/BEVERAGE.xlsx\", \"../dataset/food_beverage/Beverage/Getraenke.xlsx\", \"../dataset/food_beverage/Beverage/Getranke.xlsx\", \"../dataset/food_beverage/Beverage/Getränke.xlsx\"]"
   ],
   "id": "131d98190204f482",
   "outputs": [],
   "execution_count": null
  },
  {
   "metadata": {},
   "cell_type": "code",
   "source": [
    "df_food = pd.DataFrame()\n",
    "df_beverage = pd.DataFrame()\n",
    "\n",
    "for path in food_path:\n",
    "    df_food = pd.concat([df_food, pd.read_excel(path)], ignore_index=True)\n",
    "for path in beverage_path:\n",
    "    df_beverage = pd.concat([df_beverage, pd.read_excel(path)], ignore_index=True)\n",
    "    \n",
    "df_food['class'] = \"food\"\n",
    "df_beverage['class'] = \"beverage\""
   ],
   "id": "da957541067fe14f",
   "outputs": [],
   "execution_count": null
  },
  {
   "metadata": {},
   "cell_type": "code",
   "source": [
    "df = pd.concat([df_food, df_beverage], ignore_index=True)\n",
    "df = df[[\"bez\", \"class\"]]\n",
    "df.dropna(inplace=True)\n",
    "df.drop_duplicates(inplace=True)"
   ],
   "id": "2e213ba2537794cc",
   "outputs": [],
   "execution_count": null
  },
  {
   "metadata": {},
   "cell_type": "code",
   "source": [
    "class_mapping = {'food': 0, 'beverage': 1}\n",
    "df['class'] = df['class'].map(class_mapping)"
   ],
   "id": "d0a85d646c4878a2",
   "outputs": [],
   "execution_count": null
  },
  {
   "metadata": {},
   "cell_type": "code",
   "source": [
    "df = df.sample(frac=1).reset_index(drop=True)\n",
    "\n",
    "test_size = 0.2\n",
    "\n",
    "train_df = df.iloc[:int(len(df)*(1-test_size))]\n",
    "test_df = df.iloc[int(len(df)*(1-test_size)):]\n",
    "\n",
    "X_train, y_train = train_df['bez'].values, train_df['class'].values\n",
    "X_test, y_test = test_df['bez'].values, test_df['class'].values"
   ],
   "id": "dfcccbe7b39bec6f",
   "outputs": [],
   "execution_count": null
  },
  {
   "metadata": {},
   "cell_type": "code",
   "source": [
    "pretrained_model = \"BAAI/bge-multilingual-gemma2\"\n",
    "device = \"cuda\"\n",
    "n_classes = 2\n",
    "\n",
    "optimizer = torch.optim.Adam\n",
    "criterion = nn.CrossEntropyLoss()\n",
    "\n",
    "max_length = 128\n",
    "lr = 1e-5\n",
    "batch_size = 32\n",
    "epochs = 10"
   ],
   "id": "4cf78a19b95df9ea",
   "outputs": [],
   "execution_count": null
  },
  {
   "metadata": {},
   "cell_type": "code",
   "source": "tokenizer = TokenizerGemma(pretrained_model).get_tokenizer()",
   "id": "ea605fb1238a1583",
   "outputs": [],
   "execution_count": null
  },
  {
   "metadata": {},
   "cell_type": "code",
   "source": "model = GemmaModel(pretrained_model=pretrained_model, n_classes=n_classes, device=device).get_model()",
   "id": "3bf149d9cacf2f83",
   "outputs": [],
   "execution_count": null
  },
  {
   "metadata": {},
   "cell_type": "code",
   "source": "trainer = ClassificationTrainer(model=model, tokenizer=tokenizer, optimizer=optimizer, criterion=criterion, device=device, batch_size=batch_size, epochs=epochs, lr=lr, max_length=max_length)",
   "id": "1735b2815332b11b",
   "outputs": [],
   "execution_count": null
  },
  {
   "metadata": {},
   "cell_type": "code",
   "source": "trainer.train(X_train, y_train, X_test, y_test, dataset=ClassificationDataset, x_val=X_test, y_val=y_test)",
   "id": "b85568ba9ee0c365",
   "outputs": [],
   "execution_count": null
  },
  {
   "metadata": {},
   "cell_type": "code",
   "source": "",
   "id": "1978e11391160327",
   "outputs": [],
   "execution_count": null
  }
 ],
 "metadata": {
  "kernelspec": {
   "display_name": "Python 3",
   "language": "python",
   "name": "python3"
  },
  "language_info": {
   "codemirror_mode": {
    "name": "ipython",
    "version": 2
   },
   "file_extension": ".py",
   "mimetype": "text/x-python",
   "name": "python",
   "nbconvert_exporter": "python",
   "pygments_lexer": "ipython2",
   "version": "2.7.6"
  }
 },
 "nbformat": 4,
 "nbformat_minor": 5
}
