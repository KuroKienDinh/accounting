{
 "cells": [
  {
   "cell_type": "code",
   "id": "initial_id",
   "metadata": {
    "collapsed": true
   },
   "source": [
    "import pandas as pd\n",
    "import requests"
   ],
   "outputs": [],
   "execution_count": null
  },
  {
   "metadata": {},
   "cell_type": "code",
   "source": [
    "df_system_account = pd.read_excel(r\"C:\\Users\\Administrator\\Downloads/system_account_10180.xlsx\")\n",
    "df_items = pd.read_excel(r\"C:\\Users\\Administrator\\Downloads/item_position_10180.xlsx\")"
   ],
   "id": "dc78d9f41381e68c",
   "outputs": [],
   "execution_count": null
  },
  {
   "metadata": {},
   "cell_type": "code",
   "source": "df_system_account.drop_duplicates(subset=['system_account_name'], inplace=True)",
   "id": "6a7421a283be0875",
   "outputs": [],
   "execution_count": null
  },
  {
   "metadata": {},
   "cell_type": "code",
   "source": "df_system_account['system_account_name'].unique()",
   "id": "8cb20e8356c9a091",
   "outputs": [],
   "execution_count": null
  },
  {
   "metadata": {},
   "cell_type": "code",
   "source": "url_api = \"http://srv-caito-prod02.cisbox.com:8099/llm-accounting-mapping\"",
   "id": "9a7a8769b1afc0c",
   "outputs": [],
   "execution_count": null
  },
  {
   "metadata": {},
   "cell_type": "code",
   "source": "system_account_name_list = df_system_account['system_account_name'].unique().tolist()",
   "id": "8a847fa71d4b9b28",
   "outputs": [],
   "execution_count": null
  },
  {
   "metadata": {},
   "cell_type": "code",
   "source": [
    "from tqdm import tqdm\n",
    "\n",
    "count = 0\n",
    "\n",
    "for idx, row in tqdm(df_items.iterrows(), total=df_items.shape[0]):\n",
    "    # Only predict if system_account_name_phi4 is NaN (not yet predicted)\n",
    "    if pd.isna(row.get('system_account_name_phi4')):\n",
    "        item_name = row['item_name']\n",
    "        payload = {\n",
    "            \"item_name\": item_name,\n",
    "            \"account_name_list\": str(system_account_name_list)\n",
    "        }\n",
    "\n",
    "        response = requests.post(url_api, json=payload)\n",
    "\n",
    "        if response.status_code == 200:\n",
    "            # Extract the result from response\n",
    "            result = response.text\n",
    "\n",
    "            # Assign it back to the dataframe\n",
    "            df_items.loc[idx, 'system_account_name_phi4'] = result\n",
    "\n",
    "            # Increase the count\n",
    "            count += 1\n",
    "\n",
    "            # Save the file every 100 predictions\n",
    "            if count % 10000000 == 0:\n",
    "                df_items.to_excel(r\"C:\\Users\\Administrator\\Downloads\\item_position_10180_phi4.xlsx\", index=False)\n",
    "                print(f\"Saved after {count} new predictions.\")\n",
    "\n",
    "# --- After loop completes, do a final save in case there are leftover predictions ---\n",
    "df_items.to_excel(r\"C:\\Users\\Administrator\\Downloads\\item_position_10180_phi4.xlsx\", index=False)\n",
    "print(\"Final save complete.\")"
   ],
   "id": "5fe83a8e53a7efee",
   "outputs": [],
   "execution_count": null
  }
 ],
 "metadata": {
  "kernelspec": {
   "display_name": "Python 3",
   "language": "python",
   "name": "python3"
  },
  "language_info": {
   "codemirror_mode": {
    "name": "ipython",
    "version": 2
   },
   "file_extension": ".py",
   "mimetype": "text/x-python",
   "name": "python",
   "nbconvert_exporter": "python",
   "pygments_lexer": "ipython2",
   "version": "2.7.6"
  }
 },
 "nbformat": 4,
 "nbformat_minor": 5
}
