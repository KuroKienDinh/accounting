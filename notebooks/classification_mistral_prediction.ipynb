{
 "cells": [
  {
   "cell_type": "code",
   "id": "initial_id",
   "metadata": {
    "collapsed": true
   },
   "source": [
    "import warnings\n",
    "\n",
    "import pandas as pd\n",
    "import torch\n",
    "import wandb\n",
    "from tqdm import tqdm\n",
    "from transformers import (\n",
    "    AutoModelForSequenceClassification,\n",
    "    AutoTokenizer\n",
    ")\n",
    "\n",
    "warnings.filterwarnings(\"ignore\")\n",
    "\n",
    "wandb.init(mode=\"disabled\")\n",
    "\n",
    "tqdm.pandas()"
   ],
   "outputs": [],
   "execution_count": null
  },
  {
   "metadata": {},
   "cell_type": "code",
   "source": [
    "# df = pd.read_parquet(\"../dataset/207.masterdata.parquet\")\n",
    "df = pd.read_csv(\"../dataset/item_account_classified_group_207_new.csv\", on_bad_lines='skip')"
   ],
   "id": "c85ec996da329d40",
   "outputs": [],
   "execution_count": null
  },
  {
   "metadata": {},
   "cell_type": "code",
   "source": "len(df)",
   "id": "b1af9c632b2445b3",
   "outputs": [],
   "execution_count": null
  },
  {
   "metadata": {},
   "cell_type": "code",
   "source": [
    "# df = df.sample(n=1000).reset_index(drop=True)\n",
    "# df"
   ],
   "id": "6aa09403a83a9710",
   "outputs": [],
   "execution_count": null
  },
  {
   "metadata": {},
   "cell_type": "code",
   "source": [
    "# load model\n",
    "peft_model_id = '../outputs/llm/mistral/checkpoint-67390'\n",
    "\n",
    "model = AutoModelForSequenceClassification.from_pretrained(peft_model_id, num_labels=3)\n",
    "\n",
    "tokenizer = AutoTokenizer.from_pretrained(peft_model_id)\n",
    "tokenizer.pad_token = tokenizer.eos_token\n",
    "model.config.pad_token_id = tokenizer.pad_token_id"
   ],
   "id": "3a8cd6ceabc965ac",
   "outputs": [],
   "execution_count": null
  },
  {
   "metadata": {},
   "cell_type": "code",
   "source": [
    "device = 'cuda' if torch.cuda.is_available() else 'cpu'\n",
    "cls_label = {0: 'beverage', 1: 'food', 2: 'other'}\n",
    "batch_size = 16\n",
    "\n",
    "model.eval()\n",
    "model.to(device)"
   ],
   "id": "113e1a3d9273d571",
   "outputs": [],
   "execution_count": null
  },
  {
   "metadata": {},
   "cell_type": "code",
   "source": [
    "for i in tqdm(range(0, len(df), batch_size), total=len(df) // batch_size):\n",
    "    batch = df['item_name'][i:i + batch_size].tolist()\n",
    "    inputs = tokenizer(batch, padding=True, return_tensors='pt')\n",
    "    tokenized_inputs = {k: v.to(device) for k, v in inputs.items()}\n",
    "    with torch.no_grad():\n",
    "        outputs = model(**tokenized_inputs)\n",
    "    logits = outputs.logits\n",
    "    probs = logits.softmax(dim=-1)\n",
    "    probs = probs.cpu().numpy().argmax(axis=1)\n",
    "    df.loc[i:i + batch_size - 1, 'mistral'] = [cls_label[p] for p in probs]"
   ],
   "id": "3355e8078f681c81",
   "outputs": [],
   "execution_count": null
  },
  {
   "metadata": {},
   "cell_type": "code",
   "source": [
    "# accuracy = df[df['prediction'] == df['status']].shape[0] / df.shape[0]\n",
    "# accuracy"
   ],
   "id": "8dfb38006a9a0741",
   "outputs": [],
   "execution_count": null
  },
  {
   "metadata": {},
   "cell_type": "code",
   "source": "df.to_excel(\"../dataset/item_account_classified_group_207_new_mistral.xlsx\", index=False)",
   "id": "3760b60daa6e9809",
   "outputs": [],
   "execution_count": null
  },
  {
   "metadata": {},
   "cell_type": "code",
   "source": "",
   "id": "a14e0bc3a5956be",
   "outputs": [],
   "execution_count": null
  }
 ],
 "metadata": {
  "kernelspec": {
   "display_name": "Python 3",
   "language": "python",
   "name": "python3"
  },
  "language_info": {
   "codemirror_mode": {
    "name": "ipython",
    "version": 2
   },
   "file_extension": ".py",
   "mimetype": "text/x-python",
   "name": "python",
   "nbconvert_exporter": "python",
   "pygments_lexer": "ipython2",
   "version": "2.7.6"
  }
 },
 "nbformat": 4,
 "nbformat_minor": 5
}
